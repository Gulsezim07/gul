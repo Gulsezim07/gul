{
 "cells": [
  {
   "cell_type": "code",
   "execution_count": 1,
   "metadata": {},
   "outputs": [
    {
     "name": "stdout",
     "output_type": "stream",
     "text": [
      "24\n"
     ]
    }
   ],
   "source": [
    "#1 task\n",
    "size_list=input(\"size list:\")\n",
    "my_list=list(map(int,size_list.split()))\n",
    "multiplay=1\n",
    "for i in my_list:\n",
    "    multiplay*=i\n",
    "print(multiplay)"
   ]
  },
  {
   "cell_type": "code",
   "execution_count": 2,
   "metadata": {},
   "outputs": [
    {
     "name": "stdout",
     "output_type": "stream",
     "text": [
      "sum upper case: 2\n",
      "sum lower case: 8\n"
     ]
    }
   ],
   "source": [
    "#2 task\n",
    "\n",
    "def count_letters(letter):\n",
    "    upper = 0\n",
    "    lower = 0\n",
    "\n",
    "    for i in letter:\n",
    "        if i.isupper():\n",
    "            upper += 1\n",
    "        elif i.islower():\n",
    "            lower += 1\n",
    "\n",
    "    print(\"sum upper case:\", upper)\n",
    "    print(\"sum lower case:\", lower)\n",
    "\n",
    "soilem = input(\"enter sentence: \")\n",
    "count_letters(soilem)"
   ]
  },
  {
   "cell_type": "code",
   "execution_count": 3,
   "metadata": {},
   "outputs": [
    {
     "name": "stdout",
     "output_type": "stream",
     "text": [
      "True\n"
     ]
    }
   ],
   "source": [
    "#3 task \n",
    "def polindrom(soilem,teris_soilem):\n",
    "    for i in soilem:\n",
    "        for j in teris_soilem:\n",
    "            if i!=j:\n",
    "                return False\n",
    "                break\n",
    "            return True\n",
    "        \n",
    "    \n",
    "\n",
    "sentence=str(input(\"enter sentence:\"))\n",
    "soilem_reverse=''.join(reversed(sentence))\n",
    "print(polindrom(sentence,soilem_reverse))"
   ]
  },
  {
   "cell_type": "code",
   "execution_count": 5,
   "metadata": {},
   "outputs": [
    {
     "name": "stdout",
     "output_type": "stream",
     "text": [
      "Square root of 25100 after 2123 miliseconds is 158.42979517754858\n"
     ]
    }
   ],
   "source": [
    "#4 task \n",
    "\n",
    "import math \n",
    "import time\n",
    "\n",
    "time_miliseconds=int(input(\"Enter miliseconds\"))\n",
    "time2_miliseconds=int(input(\"Enter 2nd miliseconds\"))\n",
    "\n",
    "\n",
    "print(f\"Square root of {time_miliseconds} after {time2_miliseconds} miliseconds is {math.sqrt(time_miliseconds)}\")\n"
   ]
  },
  {
   "cell_type": "code",
   "execution_count": null,
   "metadata": {},
   "outputs": [
    {
     "name": "stdout",
     "output_type": "stream",
     "text": [
      "all True mylist: True\n"
     ]
    }
   ],
   "source": [
    "#5task\n",
    "\n",
    "size_mylist=input(\"Enter mylist\")\n",
    "mylist=list(map(int,size_mylist.split()))\n",
    "print(\"all True mylist:\",all(mylist))"
   ]
  }
 ],
 "metadata": {
  "kernelspec": {
   "display_name": "Python 3",
   "language": "python",
   "name": "python3"
  },
  "language_info": {
   "codemirror_mode": {
    "name": "ipython",
    "version": 3
   },
   "file_extension": ".py",
   "mimetype": "text/x-python",
   "name": "python",
   "nbconvert_exporter": "python",
   "pygments_lexer": "ipython3",
   "version": "3.11.9"
  }
 },
 "nbformat": 4,
 "nbformat_minor": 2
}
