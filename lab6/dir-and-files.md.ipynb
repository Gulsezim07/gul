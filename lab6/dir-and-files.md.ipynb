{
 "cells": [
  {
   "cell_type": "code",
   "execution_count": 1,
   "metadata": {},
   "outputs": [
    {
     "name": "stdout",
     "output_type": "stream",
     "text": [
      "Path exists\n",
      "Files name: pp2\n",
      "Folders name: C:\\Users\\Huawei\\OneDrive - АО Казахстанско-Британский Технический Университет\\Рабочий стол\n"
     ]
    }
   ],
   "source": [
    "#1 task \n",
    "import os\n",
    "\n",
    "path = input(\"Enter the path: \")\n",
    "\n",
    "if os.path.exists(path):\n",
    "    print(\"Path exists\")\n",
    "    print(\"Files name:\", os.path.basename(path))\n",
    "    print(\"Folders name:\", os.path.dirname(path))\n",
    "else:\n",
    "    print(\"Path not exists\")"
   ]
  },
  {
   "cell_type": "code",
   "execution_count": 22,
   "metadata": {},
   "outputs": [
    {
     "name": "stdout",
     "output_type": "stream",
     "text": [
      "File content:\n",
      "HELLOOOO\n",
      "\n"
     ]
    }
   ],
   "source": [
    "#2 task\n",
    "\n",
    "import os\n",
    "file_path = r\"C:\\Users\\Huawei\\OneDrive - АО Казахстанско-Британский Технический Университет\\Рабочий стол\\pp2\\myfile.txt\"\n",
    "\n",
    "if os.path.exists(file_path):\n",
    "    with open(file_path, \"r\", encoding=\"utf-8\") as file:\n",
    "        content = file.read()\n",
    "        print(\"File content:\")\n",
    "        print(content)\n",
    "else:\n",
    "    print(f\"❌ Ошибка: Файл '{file_path}' не найден!\")\n",
    "\n",
    "\n",
    "\n",
    "\n",
    "\n"
   ]
  },
  {
   "cell_type": "code",
   "execution_count": 19,
   "metadata": {},
   "outputs": [
    {
     "name": "stdout",
     "output_type": "stream",
     "text": [
      "Name of file:  myfile.txt\n",
      "name of directory:  \\Users\\Huawei\\OneDrive - АО Казахстанско-Британский Технический Университет\\Рабочий стол\\pp2\n",
      "success\n"
     ]
    }
   ],
   "source": [
    "#3 task\n",
    "\n",
    "import os\n",
    "path= r\"\\Users\\Huawei\\OneDrive - АО Казахстанско-Британский Технический Университет\\Рабочий стол\\pp2\\myfile.txt\"\n",
    "def checker(path):\n",
    "    if os.path.exists(path):\n",
    "        print(\"Name of file: \", os.path.basename(path))\n",
    "        print(\"name of directory: \", os.path.dirname(path))\n",
    "        return \"success\"\n",
    "    \n",
    "print(checker(path))\n"
   ]
  },
  {
   "cell_type": "code",
   "execution_count": 23,
   "metadata": {},
   "outputs": [
    {
     "name": "stdout",
     "output_type": "stream",
     "text": [
      "Number of lines: 1\n"
     ]
    }
   ],
   "source": [
    "# 4 task\n",
    "filename = input(\"Enter the full file path: \")  # Введи полный путь!\n",
    "\n",
    "with open(filename, \"r\", encoding=\"utf-8\") as file:\n",
    "    lines = file.readlines()\n",
    "\n",
    "num = len(lines)\n",
    "print(f\"Number of lines: {num}\")\n",
    "\n"
   ]
  },
  {
   "cell_type": "code",
   "execution_count": 25,
   "metadata": {},
   "outputs": [
    {
     "name": "stdout",
     "output_type": "stream",
     "text": [
      "List in: myfile.txt\n"
     ]
    }
   ],
   "source": [
    "# 5 task \n",
    "\n",
    "my_list = [\"apple\", \"banana\", \"cherry\"]\n",
    "filename = \"myfile.txt\"\n",
    "\n",
    "with open(filename, \"w\", encoding = \"utf-8\") as file:\n",
    "    for i in my_list:\n",
    "        file.write(i + \"\\n\")\n",
    "\n",
    "print(f\"List in: {filename}\")"
   ]
  },
  {
   "cell_type": "code",
   "execution_count": 13,
   "metadata": {},
   "outputs": [],
   "source": [
    "# 6 task\n",
    "\n",
    "import string\n",
    "\n",
    "def generate_files():\n",
    "    for letter in string.ascii_uppercase:\n",
    "        filename = letter + \".txt\"\n",
    "        with open(filename, 'w') as file:\n",
    "            file.write(\"hello world\")\n",
    "\n",
    "if __name__ == \"__main__\":\n",
    "    generate_files()"
   ]
  },
  {
   "cell_type": "code",
   "execution_count": 26,
   "metadata": {},
   "outputs": [
    {
     "name": "stdout",
     "output_type": "stream",
     "text": [
      "File successfully copied to 'myfile_copy.txt'.\n"
     ]
    }
   ],
   "source": [
    "# 7 task\n",
    "\n",
    "import os\n",
    "\n",
    "def copier():\n",
    "    file_name = input(\"Enter the name of the file to copy: \")\n",
    "    if not os.path.isfile(file_name):\n",
    "        print(f\"Error: The file '{file_name}' does not exist!\")\n",
    "        return\n",
    "    with open(file_name, \"r\") as file:\n",
    "        data = file.read()\n",
    "    if \".\" in file_name:\n",
    "        copy_name = file_name.replace(\".\", \"_copy.\")\n",
    "    else:\n",
    "        copy_name = file_name + \"_copy\"\n",
    "    with open(copy_name, \"w\") as file_copy:\n",
    "        file_copy.write(data)\n",
    "\n",
    "    print(f\"File successfully copied to '{copy_name}'.\")\n",
    "\n",
    "copier()\n"
   ]
  },
  {
   "cell_type": "code",
   "execution_count": 27,
   "metadata": {},
   "outputs": [
    {
     "name": "stdout",
     "output_type": "stream",
     "text": [
      "File is deleted\n"
     ]
    }
   ],
   "source": [
    "#8task\n",
    "import os\n",
    "\n",
    "path = input(\"Enter the path: \")\n",
    "\n",
    "if os.path.exists(path):\n",
    "    if os.access(path, os.W_OK):\n",
    "        os.remove(path)\n",
    "        print(\"File is deleted\")\n",
    "    else:\n",
    "        print(\"Error\")\n",
    "else:\n",
    "    print(\"File is not exists\")\n"
   ]
  }
 ],
 "metadata": {
  "kernelspec": {
   "display_name": "Python 3",
   "language": "python",
   "name": "python3"
  },
  "language_info": {
   "codemirror_mode": {
    "name": "ipython",
    "version": 3
   },
   "file_extension": ".py",
   "mimetype": "text/x-python",
   "name": "python",
   "nbconvert_exporter": "python",
   "pygments_lexer": "ipython3",
   "version": "3.11.9"
  }
 },
 "nbformat": 4,
 "nbformat_minor": 2
}
