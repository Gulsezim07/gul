{
 "cells": [
  {
   "cell_type": "code",
   "execution_count": 1,
   "metadata": {},
   "outputs": [
    {
     "name": "stdout",
     "output_type": "stream",
     "text": [
      "With upper case: HELLO WORLD\n"
     ]
    }
   ],
   "source": [
    "#1task\n",
    "\n",
    "class String:\n",
    "    def getstring(self):\n",
    "        self.sentence = input(\"Enter a sentence: \")  \n",
    "    \n",
    "    def printstring(self):\n",
    "        print(\"With upper case:\", self.sentence.upper())  \n",
    "\n",
    "\n",
    "mystring = String()\n",
    "mystring.getstring()\n",
    "mystring.printstring()"
   ]
  },
  {
   "cell_type": "code",
   "execution_count": 2,
   "metadata": {},
   "outputs": [
    {
     "name": "stdout",
     "output_type": "stream",
     "text": [
      "Sharshy audany: 25.0\n",
      "Basqa: 0\n"
     ]
    }
   ],
   "source": [
    "#2task\n",
    "class Shape():\n",
    "    def area(self):\n",
    "        return 0\n",
    "class Square(Shape):\n",
    "    def __init__(self,length):\n",
    "        self.length=length\n",
    "    def area(self):\n",
    "        return self.length ** 2\n",
    "a = float(input(\"a:\"))\n",
    "mysquare=Square(a)\n",
    "print(\"Sharshy audany:\",mysquare.area())\n",
    "myshape=Shape()\n",
    "print(\"Basqa:\",myshape.area())"
   ]
  },
  {
   "cell_type": "code",
   "execution_count": 3,
   "metadata": {},
   "outputs": [
    {
     "name": "stdout",
     "output_type": "stream",
     "text": [
      "Area of the rectangle: 15.0\n"
     ]
    }
   ],
   "source": [
    "# 3 task\n",
    "class Shape:\n",
    "    def area(self):\n",
    "        return 0\n",
    "class Rectangle(Shape):\n",
    "    def __init__(self, length, width):\n",
    "        self.length = length\n",
    "        self.width = width\n",
    "    def area(self):\n",
    "        return self.length * self.width\n",
    "length = float(input(\"Length: \"))\n",
    "width = float(input(\"Width: \"))\n",
    "audan=Rectangle(length,width)\n",
    "print(\"Area of the rectangle:\",audan.area())\n",
    "\n",
    "\n",
    "\n",
    "    \n"
   ]
  },
  {
   "cell_type": "code",
   "execution_count": 8,
   "metadata": {},
   "outputs": [
    {
     "name": "stdout",
     "output_type": "stream",
     "text": [
      "Point coordinates: (3, 4)\n",
      "Point coordinates: (6, 8)\n",
      "Point moved to (10, 12)\n",
      "Distance between points: 5.66\n"
     ]
    }
   ],
   "source": [
    "# 4 task \n",
    "\n",
    "import math\n",
    "\n",
    "class Point:\n",
    "\n",
    "    def __init__(self, x, y):\n",
    "        self.x = x\n",
    "        self.y = y\n",
    "\n",
    "    def show(self):\n",
    "        return f\"Point coordinates: ({self.x}, {self.y})\"\n",
    "\n",
    "    def move(self, new_x, new_y):\n",
    "        self.x = new_x\n",
    "        self.y = new_y\n",
    "        return f\"Point moved to ({self.x}, {self.y})\"\n",
    "\n",
    "    def dist(self, other):\n",
    "        distance = math.sqrt((self.x - other.x) ** 2 + (self.y - other.y) ** 2)\n",
    "        return f\"Distance between points: {distance:.2f}\"\n",
    "\n",
    "\n",
    "p1 = Point(3, 4)  \n",
    "p2 = Point(6, 8)  \n",
    "\n",
    "\n",
    "print(p1.show()) \n",
    "print(p2.show()) \n",
    "\n",
    "\n",
    "print(p1.move(10, 12))  \n",
    "\n",
    "\n",
    "print(p1.dist(p2))  \n",
    "\n",
    "\n"
   ]
  },
  {
   "cell_type": "code",
   "execution_count": null,
   "metadata": {},
   "outputs": [],
   "source": [
    "#5 task\n",
    "class Bank():\n",
    "    def __init__(self, account, money):\n",
    "        self.money = money\n",
    "        self.account = account\n",
    "\n",
    "    def balance(self):\n",
    "        return self.money\n",
    "    \n",
    "    def owner(self):\n",
    "        return self.account\n",
    "    \n",
    "    def deposit(self, money):\n",
    "        self.money+=money\n",
    "\n",
    "        return f\"You are deposit {money} money\"\n",
    "    \n",
    "    def withdraw(self, money):\n",
    "        if self.money - money < 0:\n",
    "            return \"insufficient funds\"\n",
    "        else:\n",
    "            self.money-=money\n",
    "\n",
    "            return f\"you're balance: {self.money},  and you take {money}\"\n",
    "        \n",
    "        \n",
    "bank = Bank(\"Gulsezim\", 1000)\n",
    "\n",
    "print(bank.balance())\n",
    "\n",
    "print(bank.owner())\n",
    "\n",
    "print(bank.deposit(10000))\n",
    "\n",
    "print(bank.withdraw(3000))\n",
    "\n",
    "print(bank.withdraw(2000))\n"
   ]
  },
  {
   "cell_type": "code",
   "execution_count": 9,
   "metadata": {},
   "outputs": [
    {
     "name": "stdout",
     "output_type": "stream",
     "text": [
      "[11, 13]\n"
     ]
    }
   ],
   "source": [
    "# 6 task  \n",
    "\n",
    "class Prime:\n",
    "    def __init__(self, numbers):\n",
    "        self.numbers = numbers\n",
    "\n",
    "    def is_prime(self, num):\n",
    "        if num < 2:\n",
    "            return False\n",
    "        for i in range(2, int(num**0.5) + 1):\n",
    "            if num % i == 0:\n",
    "                return False\n",
    "        return True\n",
    "\n",
    "    def filter_prime_numbers(self):\n",
    "        return list(filter(lambda x: self.is_prime(x), self.numbers))\n",
    "\n",
    "n = int(input(\"n: \"))\n",
    "mylist = []\n",
    "for i in range(n):\n",
    "    number = int(input(\"number: \"))\n",
    "    mylist.append(number)\n",
    "\n",
    "prime_filter = Prime(mylist)\n",
    "print(prime_filter.filter_prime_numbers())"
   ]
  }
 ],
 "metadata": {
  "kernelspec": {
   "display_name": "Python 3",
   "language": "python",
   "name": "python3"
  },
  "language_info": {
   "codemirror_mode": {
    "name": "ipython",
    "version": 3
   },
   "file_extension": ".py",
   "mimetype": "text/x-python",
   "name": "python",
   "nbconvert_exporter": "python",
   "pygments_lexer": "ipython3",
   "version": "3.11.9"
  }
 },
 "nbformat": 4,
 "nbformat_minor": 2
}
