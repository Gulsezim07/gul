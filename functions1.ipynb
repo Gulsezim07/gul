{
 "cells": [
  {
   "cell_type": "code",
   "execution_count": 1,
   "metadata": {},
   "outputs": [
    {
     "name": "stdout",
     "output_type": "stream",
     "text": [
      "ounces= 3.527396\n"
     ]
    }
   ],
   "source": [
    "#1\n",
    "\n",
    "def grams_to_ounces(gram):\n",
    "    ounces = 0.03527396 * gram  \n",
    "    return ounces\n",
    "\n",
    "\n",
    "gram = float(input(\"Enter the number of grams: \"))\n",
    "\n",
    "\n",
    "print(\"ounces=\",grams_to_ounces(gram)) "
   ]
  },
  {
   "cell_type": "code",
   "execution_count": 2,
   "metadata": {},
   "outputs": [
    {
     "name": "stdout",
     "output_type": "stream",
     "text": [
      "Temperature in degrees Celsius: 37.0\n"
     ]
    }
   ],
   "source": [
    "#2 task \n",
    "\n",
    "def temperature(F):\n",
    "    C = (5 / 9) * (F - 32)  \n",
    "    return C\n",
    "\n",
    "F = float(input(\"Enter the temperature in Fahrenheit: \"))  \n",
    "print(\"Temperature in degrees Celsius:\", temperature(F))  \n"
   ]
  },
  {
   "cell_type": "code",
   "execution_count": 3,
   "metadata": {},
   "outputs": [
    {
     "name": "stdout",
     "output_type": "stream",
     "text": [
      "chickens: 23, rabbits: 12\n"
     ]
    }
   ],
   "source": [
    "#3 task\n",
    "\n",
    "def heads(head, legs):\n",
    "    if legs % 2 != 0 or legs < 2 * head or legs > 4 * head:\n",
    "        return \"No solution found\"\n",
    "    chicken = (4 * head - legs) // 2\n",
    "    rabbits = (legs - 2 * head) // 2\n",
    "\n",
    "    return f\"chickens: {chicken}, rabbits: {rabbits}\"\n",
    "\n",
    "print(heads(35, 94))  \n"
   ]
  },
  {
   "cell_type": "code",
   "execution_count": 4,
   "metadata": {},
   "outputs": [
    {
     "name": "stdout",
     "output_type": "stream",
     "text": [
      "Prime numbers: [2, 3, 7]\n"
     ]
    }
   ],
   "source": [
    "#4 task \n",
    "def is_prime(num):\n",
    "    if num < 2:\n",
    "        return False\n",
    "    for i in range(2, int(num**0.5) + 1):\n",
    "        if num % i == 0:\n",
    "            return False\n",
    "    return True\n",
    "\n",
    "def filter_prime(numbers):\n",
    "    return list(filter(is_prime, numbers))\n",
    "\n",
    "numbers_str = input(\"enter list numbers: \")\n",
    "numbers_list = list(map(int, numbers_str.split()))\n",
    "\n",
    "prime_numbers = filter_prime(numbers_list)\n",
    "print(\"Prime numbers:\", prime_numbers)\n",
    "\n"
   ]
  },
  {
   "cell_type": "code",
   "execution_count": 3,
   "metadata": {},
   "outputs": [
    {
     "name": "stdout",
     "output_type": "stream",
     "text": [
      "abc\n",
      "acb\n",
      "bac\n",
      "bca\n",
      "cab\n",
      "cba\n"
     ]
    }
   ],
   "source": [
    "#5 task \n",
    "def permute(s, answer=\"\"):\n",
    "    if len(s) == 0:\n",
    "        print(answer)\n",
    "\n",
    "    for i in range(len(s)):\n",
    "        ch = s[i]  \n",
    "        remaining = s[:i] + s[i+1:]  \n",
    "        permute(remaining, answer + ch)  \n",
    "\n",
    "\n",
    "user_input = input(\"Enter the line: \")\n",
    "permute(user_input)\n",
    "\n"
   ]
  },
  {
   "cell_type": "code",
   "execution_count": 4,
   "metadata": {},
   "outputs": [
    {
     "name": "stdout",
     "output_type": "stream",
     "text": [
      "ready are We\n"
     ]
    }
   ],
   "source": [
    "#6 task\n",
    "\n",
    "def reverse_sentence(strings):\n",
    "    words = strings.split() \n",
    "    reversed_words = ' '.join(words[::-1])  \n",
    "    return reversed_words  \n",
    "\n",
    "\n",
    "k = input(\"Введите строку: \")\n",
    "print(reverse_sentence(k))  \n",
    "\n"
   ]
  },
  {
   "cell_type": "code",
   "execution_count": 5,
   "metadata": {},
   "outputs": [
    {
     "name": "stdout",
     "output_type": "stream",
     "text": [
      "True\n",
      "False\n",
      "False\n"
     ]
    }
   ],
   "source": [
    "#7 task\n",
    "\n",
    "def has_33(nums):\n",
    "    for i in range(len(nums) - 1):\n",
    "        if nums[i] == 3 and nums[i + 1] == 3:\n",
    "            return True\n",
    "    return False\n",
    "\n",
    "\n",
    "has_33([1, 3, 3])\n",
    "print(has_33([1, 3, 3]))\n",
    "print(has_33([1, 3, 1, 3]))\n",
    "print(has_33([3, 1, 3]))\n",
    "\n"
   ]
  },
  {
   "cell_type": "code",
   "execution_count": 6,
   "metadata": {},
   "outputs": [
    {
     "name": "stdout",
     "output_type": "stream",
     "text": [
      "True\n",
      "True\n",
      "False\n"
     ]
    }
   ],
   "source": [
    "#8 task\n",
    "\n",
    "\n",
    "def spy_game(nums):\n",
    "    pattern = [0, 0, 7]  \n",
    "    index = 0  \n",
    "\n",
    "    for num in nums:\n",
    "        if num == pattern[index]:  \n",
    "            index += 1  \n",
    "            if index == len(pattern):  \n",
    "                return True\n",
    "    return False  \n",
    "\n",
    "\n",
    "print(spy_game([1, 2, 4, 0, 0, 7, 5]))\n",
    "print(spy_game([1, 0, 2, 4, 0, 5, 7])) \n",
    "print(spy_game([1, 7, 2, 0, 4, 5, 0]))  \n",
    "\n",
    "\n",
    "\n"
   ]
  },
  {
   "cell_type": "code",
   "execution_count": 7,
   "metadata": {},
   "outputs": [
    {
     "name": "stdout",
     "output_type": "stream",
     "text": [
      "904.7786842338603\n"
     ]
    }
   ],
   "source": [
    "#9 task\n",
    "\n",
    "import math\n",
    "\n",
    "def volume_sphere(radius):\n",
    "    \n",
    "    V = (4 / 3) * math.pi * (radius ** 3)\n",
    "    return V\n",
    "\n",
    "# Example usage:\n",
    "radius = float(input(\"Enter the radius of the sphere: \"))\n",
    "print(volume_sphere(radius))\n"
   ]
  },
  {
   "cell_type": "code",
   "execution_count": 8,
   "metadata": {},
   "outputs": [
    {
     "name": "stdout",
     "output_type": "stream",
     "text": [
      "Unique elements: [1, 3, 5, 7, 9]\n"
     ]
    }
   ],
   "source": [
    "#10 task\n",
    "\n",
    "def unique(mylist):\n",
    "    result = []\n",
    "    for i in mylist:\n",
    "        if i not in result: \n",
    "            result.append(i)\n",
    "    return result\n",
    "\n",
    "n = int(input(\"Enter the number of elements: \"))\n",
    "mylist = [int(input(\"Enter a number: \")) for _ in range(n)]\n",
    "\n",
    "\n",
    "print(\"Unique elements:\", unique(mylist))\n",
    "\n"
   ]
  },
  {
   "cell_type": "code",
   "execution_count": 9,
   "metadata": {},
   "outputs": [
    {
     "name": "stdout",
     "output_type": "stream",
     "text": [
      "YES\n"
     ]
    }
   ],
   "source": [
    "#11 task\n",
    "\n",
    "def palindrom(text):\n",
    "    if text==text[::-1]:\n",
    "        print(\"YES\")\n",
    "    else:\n",
    "        print(\"NO\")\n",
    "\n",
    "text = input(\"text: \")\n",
    "palindrom(text)\n"
   ]
  },
  {
   "cell_type": "code",
   "execution_count": 11,
   "metadata": {},
   "outputs": [
    {
     "name": "stdout",
     "output_type": "stream",
     "text": [
      "****\n",
      "*******\n",
      "********\n"
     ]
    }
   ],
   "source": [
    "#12 task\n",
    "\n",
    "def histogram(arr):\n",
    "    for i in arr:\n",
    "        print(\"*\"*i)\n",
    "n=input(\"numbers:\")\n",
    "mylist=list(map(int,n.split()))\n",
    "histogram(mylist)"
   ]
  },
  {
   "cell_type": "code",
   "execution_count": 12,
   "metadata": {},
   "outputs": [
    {
     "name": "stdout",
     "output_type": "stream",
     "text": [
      "Hello! What is your name?\n",
      "Well, KBTU, I am thinking of a number between 1 and 20.\n",
      "Your guess is too high.\n",
      "Your guess is too high.\n",
      "Your guess is too low\n",
      "Your guess is too high.\n",
      "Good job, KBTU! You guessed my number in 5 guesses!\n"
     ]
    }
   ],
   "source": [
    "#13 task\n",
    "\n",
    "from random import randint\n",
    "\n",
    "def guessanumber():\n",
    "    print(\"Hello! What is your name?\")\n",
    "    name = input(\"name:\")\n",
    "    print(f\"Well, {name}, I am thinking of a number between 1 and 20.\")\n",
    "    number = randint(1,20)\n",
    "    sum = 0\n",
    "    run = True\n",
    "    while run:\n",
    "        guess = int(input(\"Take a guess: \"))\n",
    "        sum+=1\n",
    "        if guess == number:\n",
    "            run = False\n",
    "            print(f\"Good job, {name}! You guessed my number in {sum} guesses!\")\n",
    "            break\n",
    "        if guess>number:\n",
    "            print(\"Your guess is too high.\")\n",
    "        else:\n",
    "            print(\"Your guess is too low\")\n",
    "\n",
    "\n",
    "guessanumber()\n"
   ]
  },
  {
   "cell_type": "code",
   "execution_count": 14,
   "metadata": {},
   "outputs": [
    {
     "name": "stdout",
     "output_type": "stream",
     "text": [
      "chickens: 23, rabbits: 12\n",
      "[10, 7, 3, 5, 4, 7, 5, 2, 9, 7]\n"
     ]
    }
   ],
   "source": [
    "#14 task\n",
    "\n",
    "from random import randint\n",
    "\n",
    "def heads(head, legs):\n",
    "    if legs % 2 != 0 or legs < 2 * head or legs > 4 * head:\n",
    "        return \"No solution found\"\n",
    "    chicken = (4 * head - legs) // 2\n",
    "    rabbits = (legs - 2 * head) // 2\n",
    "\n",
    "    return f\"chickens: {chicken}, rabbits: {rabbits}\"\n",
    "\n",
    "print(heads(35, 94)) \n",
    "\n",
    "\n",
    "def randomator(start, end, length):\n",
    "    arr=[randint(start, end)for i in range(length)]\n",
    "    print(arr)\n",
    "randomator(1,10,10)\n",
    "\n"
   ]
  }
 ],
 "metadata": {
  "kernelspec": {
   "display_name": "Python 3",
   "language": "python",
   "name": "python3"
  },
  "language_info": {
   "codemirror_mode": {
    "name": "ipython",
    "version": 3
   },
   "file_extension": ".py",
   "mimetype": "text/x-python",
   "name": "python",
   "nbconvert_exporter": "python",
   "pygments_lexer": "ipython3",
   "version": "3.11.9"
  }
 },
 "nbformat": 4,
 "nbformat_minor": 2
}
